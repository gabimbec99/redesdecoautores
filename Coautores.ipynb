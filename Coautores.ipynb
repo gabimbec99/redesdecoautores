{
 "cells": [
  {
   "cell_type": "markdown",
   "metadata": {},
   "source": [
    "Redes de coautores en la Facultad de Economía Uniandes"
   ]
  },
  {
   "cell_type": "code",
   "execution_count": 1,
   "metadata": {},
   "outputs": [],
   "source": [
    "import os"
   ]
  },
  {
   "cell_type": "code",
   "execution_count": 2,
   "metadata": {},
   "outputs": [],
   "source": [
    "cwd = os.getcwd()"
   ]
  },
  {
   "cell_type": "code",
   "execution_count": 3,
   "metadata": {},
   "outputs": [
    {
     "name": "stdout",
     "output_type": "stream",
     "text": [
      "Current working directory: /Users/gabrielamejia/Desktop/ANDES/CEDE\n"
     ]
    }
   ],
   "source": [
    "print(\"Current working directory: {0}\".format(cwd))"
   ]
  },
  {
   "cell_type": "code",
   "execution_count": 4,
   "metadata": {},
   "outputs": [
    {
     "data": {
      "text/plain": [
       "'/Users/gabrielamejia/Desktop/ANDES/CEDE'"
      ]
     },
     "execution_count": 4,
     "metadata": {},
     "output_type": "execute_result"
    }
   ],
   "source": [
    "os.path.abspath(r\"/Users/gabrielamejia/Desktop/ANDES/CEDE\")"
   ]
  },
  {
   "cell_type": "code",
   "execution_count": 5,
   "metadata": {},
   "outputs": [],
   "source": [
    "os.chdir(\"/Users/gabrielamejia/Desktop/ANDES/CEDE\")"
   ]
  },
  {
   "cell_type": "code",
   "execution_count": 6,
   "metadata": {},
   "outputs": [],
   "source": [
    "import pandas as pd\n",
    "import numpy as np\n",
    "import networkx as nx\n",
    "import matplotlib.pyplot as plt"
   ]
  },
  {
   "cell_type": "code",
   "execution_count": 71,
   "metadata": {},
   "outputs": [],
   "source": [
    "coautores=pd.read_excel(\"Indicadores_Coautores.xls\")"
   ]
  },
  {
   "cell_type": "code",
   "execution_count": 72,
   "metadata": {},
   "outputs": [
    {
     "data": {
      "text/html": [
       "<div>\n",
       "<style scoped>\n",
       "    .dataframe tbody tr th:only-of-type {\n",
       "        vertical-align: middle;\n",
       "    }\n",
       "\n",
       "    .dataframe tbody tr th {\n",
       "        vertical-align: top;\n",
       "    }\n",
       "\n",
       "    .dataframe thead th {\n",
       "        text-align: right;\n",
       "    }\n",
       "</style>\n",
       "<table border=\"1\" class=\"dataframe\">\n",
       "  <thead>\n",
       "    <tr style=\"text-align: right;\">\n",
       "      <th></th>\n",
       "      <th>Id</th>\n",
       "      <th>Profesor</th>\n",
       "      <th>Nombre</th>\n",
       "      <th>Nombre_profesor</th>\n",
       "      <th>Año</th>\n",
       "      <th>Coautoresentidaddeafiliación</th>\n",
       "      <th>Coautor_1</th>\n",
       "      <th>Entidad_Pais</th>\n",
       "      <th>Entidad</th>\n",
       "      <th>Pais</th>\n",
       "      <th>Lugar</th>\n",
       "      <th>Col</th>\n",
       "      <th>Nombre_coautor</th>\n",
       "      <th>Id_co</th>\n",
       "      <th>UNIANDES</th>\n",
       "    </tr>\n",
       "  </thead>\n",
       "  <tbody>\n",
       "    <tr>\n",
       "      <th>0</th>\n",
       "      <td>PROF1</td>\n",
       "      <td>Adriana Camacho</td>\n",
       "      <td>Adriana Camacho</td>\n",
       "      <td>AdrianaCamacho</td>\n",
       "      <td>2016</td>\n",
       "      <td>Joanne Csete, Columbia University,  USA</td>\n",
       "      <td>Joanne Csete</td>\n",
       "      <td>Columbia University,  USA</td>\n",
       "      <td>Columbia University</td>\n",
       "      <td>USA</td>\n",
       "      <td>2</td>\n",
       "      <td>0</td>\n",
       "      <td>JoanneCsete</td>\n",
       "      <td>CO193</td>\n",
       "      <td>0</td>\n",
       "    </tr>\n",
       "    <tr>\n",
       "      <th>1</th>\n",
       "      <td>PROF1</td>\n",
       "      <td>Adriana Camacho</td>\n",
       "      <td>Adriana Camacho</td>\n",
       "      <td>AdrianaCamacho</td>\n",
       "      <td>2016</td>\n",
       "      <td>Adeeba Kamarulzaman, University of Malaya,Mal...</td>\n",
       "      <td>Adeeba Kamarulzaman</td>\n",
       "      <td>University of Malaya,Malaysia</td>\n",
       "      <td>University of Malaya</td>\n",
       "      <td>Malaysia</td>\n",
       "      <td>4</td>\n",
       "      <td>0</td>\n",
       "      <td>AdeebaKamarulzaman</td>\n",
       "      <td>CO2</td>\n",
       "      <td>0</td>\n",
       "    </tr>\n",
       "    <tr>\n",
       "      <th>2</th>\n",
       "      <td>PROF1</td>\n",
       "      <td>Adriana Camacho</td>\n",
       "      <td>Adriana Camacho</td>\n",
       "      <td>AdrianaCamacho</td>\n",
       "      <td>2016</td>\n",
       "      <td>Michel Kazatchkine, UN Special Envoy HIV in E...</td>\n",
       "      <td>Michel Kazatchkine</td>\n",
       "      <td>UN Special Envoy HIV in Eastern Europe and Ce...</td>\n",
       "      <td>UN Special Envoy HIV in Eastern Europe and Ce...</td>\n",
       "      <td>Suiza</td>\n",
       "      <td>3</td>\n",
       "      <td>0</td>\n",
       "      <td>MichelKazatchkine</td>\n",
       "      <td>CO287</td>\n",
       "      <td>0</td>\n",
       "    </tr>\n",
       "    <tr>\n",
       "      <th>3</th>\n",
       "      <td>PROF1</td>\n",
       "      <td>Adriana Camacho</td>\n",
       "      <td>Adriana Camacho</td>\n",
       "      <td>AdrianaCamacho</td>\n",
       "      <td>2016</td>\n",
       "      <td>Frederick Altice, Yale University, USA</td>\n",
       "      <td>Frederick Altice</td>\n",
       "      <td>Yale University, USA</td>\n",
       "      <td>Yale University</td>\n",
       "      <td>USA</td>\n",
       "      <td>2</td>\n",
       "      <td>0</td>\n",
       "      <td>FrederickAltice</td>\n",
       "      <td>CO137</td>\n",
       "      <td>0</td>\n",
       "    </tr>\n",
       "    <tr>\n",
       "      <th>4</th>\n",
       "      <td>PROF1</td>\n",
       "      <td>Adriana Camacho</td>\n",
       "      <td>Adriana Camacho</td>\n",
       "      <td>AdrianaCamacho</td>\n",
       "      <td>2016</td>\n",
       "      <td>Marek Balicki, Warsaw, Poland</td>\n",
       "      <td>Marek Balicki</td>\n",
       "      <td>Warsaw, Poland</td>\n",
       "      <td>Warsaw</td>\n",
       "      <td>Poland</td>\n",
       "      <td>3</td>\n",
       "      <td>0</td>\n",
       "      <td>MarekBalicki</td>\n",
       "      <td>CO255</td>\n",
       "      <td>0</td>\n",
       "    </tr>\n",
       "  </tbody>\n",
       "</table>\n",
       "</div>"
      ],
      "text/plain": [
       "      Id         Profesor           Nombre Nombre_profesor   Año  \\\n",
       "0  PROF1  Adriana Camacho  Adriana Camacho  AdrianaCamacho  2016   \n",
       "1  PROF1  Adriana Camacho  Adriana Camacho  AdrianaCamacho  2016   \n",
       "2  PROF1  Adriana Camacho  Adriana Camacho  AdrianaCamacho  2016   \n",
       "3  PROF1  Adriana Camacho  Adriana Camacho  AdrianaCamacho  2016   \n",
       "4  PROF1  Adriana Camacho  Adriana Camacho  AdrianaCamacho  2016   \n",
       "\n",
       "                        Coautoresentidaddeafiliación             Coautor_1  \\\n",
       "0            Joanne Csete, Columbia University,  USA          Joanne Csete   \n",
       "1   Adeeba Kamarulzaman, University of Malaya,Mal...   Adeeba Kamarulzaman   \n",
       "2   Michel Kazatchkine, UN Special Envoy HIV in E...    Michel Kazatchkine   \n",
       "3             Frederick Altice, Yale University, USA      Frederick Altice   \n",
       "4                      Marek Balicki, Warsaw, Poland         Marek Balicki   \n",
       "\n",
       "                                        Entidad_Pais  \\\n",
       "0                          Columbia University,  USA   \n",
       "1                      University of Malaya,Malaysia   \n",
       "2   UN Special Envoy HIV in Eastern Europe and Ce...   \n",
       "3                               Yale University, USA   \n",
       "4                                     Warsaw, Poland   \n",
       "\n",
       "                                             Entidad      Pais  Lugar  Col  \\\n",
       "0                                Columbia University       USA      2    0   \n",
       "1                               University of Malaya  Malaysia      4    0   \n",
       "2   UN Special Envoy HIV in Eastern Europe and Ce...     Suiza      3    0   \n",
       "3                                    Yale University       USA      2    0   \n",
       "4                                             Warsaw    Poland      3    0   \n",
       "\n",
       "       Nombre_coautor  Id_co  UNIANDES  \n",
       "0         JoanneCsete  CO193         0  \n",
       "1  AdeebaKamarulzaman    CO2         0  \n",
       "2   MichelKazatchkine  CO287         0  \n",
       "3     FrederickAltice  CO137         0  \n",
       "4        MarekBalicki  CO255         0  "
      ]
     },
     "execution_count": 72,
     "metadata": {},
     "output_type": "execute_result"
    }
   ],
   "source": [
    "coautores.head()"
   ]
  },
  {
   "cell_type": "code",
   "execution_count": 73,
   "metadata": {},
   "outputs": [],
   "source": [
    "G=nx.from_pandas_edgelist(coautores, source='Nombre_profesor', target='Nombre_coautor')"
   ]
  },
  {
   "cell_type": "code",
   "execution_count": 74,
   "metadata": {},
   "outputs": [
    {
     "data": {
      "text/plain": [
       "<networkx.classes.graph.Graph at 0x7ff76c43d730>"
      ]
     },
     "execution_count": 74,
     "metadata": {},
     "output_type": "execute_result"
    }
   ],
   "source": [
    "G"
   ]
  },
  {
   "cell_type": "code",
   "execution_count": 7,
   "metadata": {},
   "outputs": [],
   "source": [
    "from pyvis.network import Network"
   ]
  },
  {
   "cell_type": "code",
   "execution_count": 75,
   "metadata": {},
   "outputs": [],
   "source": [
    "net=Network(notebook=True)"
   ]
  },
  {
   "cell_type": "code",
   "execution_count": 76,
   "metadata": {},
   "outputs": [],
   "source": [
    "net.toggle_physics(True)"
   ]
  },
  {
   "cell_type": "code",
   "execution_count": 85,
   "metadata": {},
   "outputs": [],
   "source": [
    "net.from_nx(G)"
   ]
  },
  {
   "cell_type": "code",
   "execution_count": 87,
   "metadata": {},
   "outputs": [
    {
     "data": {
      "text/html": [
       "\n",
       "        <iframe\n",
       "            width=\"500px\"\n",
       "            height=\"500px\"\n",
       "            src=\"G.html\"\n",
       "            frameborder=\"0\"\n",
       "            allowfullscreen\n",
       "        ></iframe>\n",
       "        "
      ],
      "text/plain": [
       "<IPython.lib.display.IFrame at 0x7ff76c0a9190>"
      ]
     },
     "execution_count": 87,
     "metadata": {},
     "output_type": "execute_result"
    }
   ],
   "source": [
    "net.show_buttons(filter_=['nodes'])\n",
    "net.show(\"G.html\")"
   ]
  },
  {
   "cell_type": "code",
   "execution_count": 83,
   "metadata": {},
   "outputs": [],
   "source": [
    "coa_net = Network(height='750px', width='100%', bgcolor='#ffffff', font_color='black')\n",
    "\n",
    "# set the physics layout of the network\n",
    "coa_net.barnes_hut()\n",
    "coautores=pd.read_excel(\"Indicadores_Coautores.xls\")\n",
    "\n",
    "sources = coautores['Nombre_profesor']\n",
    "targets = coautores['Nombre_coautor']\n",
    "\n",
    "edge_data = zip(sources, targets)\n",
    "\n",
    "for e in edge_data:\n",
    "    src = e[0]\n",
    "    dst = e[1]\n",
    "\n",
    "    coa_net.add_node(src, src, title=src)\n",
    "    coa_net.add_node(dst, dst, title=dst)\n",
    "    coa_net.add_edge(src, dst)\n",
    "\n",
    "neighbor_map = coa_net.get_adj_list()\n",
    "\n",
    "# add neighbor data to node hover data\n",
    "for node in coa_net.nodes:\n",
    "    node['title'] += ' Neighbors:<br>' + '<br>'.join(neighbor_map[node['id']])\n",
    "    node['value'] = len(neighbor_map[node['id']])\n",
    "coa_net.show_buttons(filter_=['nodes'])\n",
    "coa_net.show('gameofthrones.html')"
   ]
  },
  {
   "cell_type": "code",
   "execution_count": 84,
   "metadata": {},
   "outputs": [],
   "source": [
    "coa_net.show('gameofthrones.html')"
   ]
  },
  {
   "cell_type": "code",
   "execution_count": 37,
   "metadata": {},
   "outputs": [],
   "source": [
    "coa_net = Network(height='750px', width='100%', bgcolor='#EDE6DB', font_color='black')\n",
    "\n",
    "# set the physics layout of the network\n",
    "coa_net.force_atlas_2based()\n",
    "coautores=pd.read_excel(\"Indicadores_Coautores.xls\")\n",
    "\n",
    "sources = coautores['Nombre_profesor']\n",
    "targets = coautores['Nombre_coautor']\n",
    "uniandes = coautores['Col']\n",
    "\n",
    "edge_data = zip(sources, targets, uniandes)\n",
    "for e in edge_data:\n",
    "    src = e[0]\n",
    "    dst = e[1]\n",
    "    col = e[2]\n",
    "\n",
    "    if col==1:\n",
    "        coa_net.add_node(src, src, title=src, color='#FFD124')\n",
    "        coa_net.add_node(dst,dst,title=dst, color='#FFD124')\n",
    "    if col==0:\n",
    "        coa_net.add_node(src, src, title=src, color='#00AFC1')\n",
    "        coa_net.add_node(dst,dst,title=dst, color='#00AFC1')\n",
    "   \n",
    "    coa_net.add_edge(src, dst)\n",
    "neighbor_map = coa_net.get_adj_list()\n",
    "\n",
    "# add neighbor data to node hover data\n",
    "for node in coa_net.nodes:\n",
    "    node['title'] += ' Neighbors:<br>' + '<br>'.join(neighbor_map[node['id']])\n",
    "    node['value'] = len(neighbor_map[node['id']])\n",
    "coa_net.show_buttons(filter_=['physics'])\n",
    "coa_net.show('colombia.html')"
   ]
  },
  {
   "cell_type": "code",
   "execution_count": 38,
   "metadata": {},
   "outputs": [],
   "source": [
    "coa_net = Network(height='750px', width='100%', bgcolor='#EDE6DB', font_color='black')\n",
    "\n",
    "# set the physics layout of the network\n",
    "coa_net.force_atlas_2based()\n",
    "coautores=pd.read_excel(\"RedCoautores2021.xlsx\")\n",
    "\n",
    "sources = coautores['AutorUniandes']\n",
    "targets = coautores['co']\n",
    "color = coautores['color']\n",
    "\n",
    "edge_data = zip(sources, targets, color)\n",
    "for e in edge_data:\n",
    "    src = e[0]\n",
    "    dst = e[1]\n",
    "    col = e[2]\n",
    "\n",
    "    if col==1:\n",
    "        coa_net.add_node(src, src, title=src, color='#FFD124')\n",
    "        coa_net.add_node(dst,dst,title=dst, color='#FFD124')\n",
    "    if col==2:\n",
    "        coa_net.add_node(src, src, title=src, color='#FFD124')\n",
    "        coa_net.add_node(dst,dst,title=dst, color='#a1dab4')\n",
    "    if col==3:\n",
    "        coa_net.add_node(src, src, title=src, color='#FFD124')\n",
    "        coa_net.add_node(dst,dst,title=dst, color='#41b6c4')\n",
    "    if col==4:\n",
    "        coa_net.add_node(src, src, title=src, color='#FFD124')\n",
    "        coa_net.add_node(dst,dst,title=dst, color='#2c7fb8')\n",
    "    if col==5:\n",
    "        coa_net.add_node(src, src, title=src, color='#FFD124')\n",
    "        coa_net.add_node(dst,dst,title=dst, color='#253494')\n",
    "   \n",
    "    coa_net.add_edge(src, dst, color='#069A8E')\n",
    "neighbor_map = coa_net.get_adj_list()\n",
    "\n",
    "# add neighbor data to node hover data\n",
    "for node in coa_net.nodes:\n",
    "    node['title'] += ' Neighbors:<br>' + '<br>'.join(neighbor_map[node['id']])\n",
    "    node['value'] = len(neighbor_map[node['id']])\n",
    "coa_net.show_buttons(filter_=['physics'])\n",
    "coa_net.show('redcoautores2021.html')"
   ]
  },
  {
   "cell_type": "code",
   "execution_count": 46,
   "metadata": {},
   "outputs": [],
   "source": [
    "coa_net = Network(height='750px', width='100%', bgcolor='#EDE6DB', font_color='black')\n",
    "\n",
    "# set the physics layout of the network\n",
    "coa_net.force_atlas_2based()\n",
    "coautores=pd.read_excel(\"RedCoautores2020.xlsx\")\n",
    "\n",
    "sources = coautores['AutorUniandes']\n",
    "targets = coautores['co']\n",
    "color = coautores['color']\n",
    "\n",
    "edge_data = zip(sources, targets, color)\n",
    "for e in edge_data:\n",
    "    src = e[0]\n",
    "    dst = e[1]\n",
    "    col = e[2]\n",
    "\n",
    "    if col==1:\n",
    "        coa_net.add_node(src, src, title=src, color='#FFD124')\n",
    "        coa_net.add_node(dst,dst,title=dst, color='#FFD124')\n",
    "    if col==2:\n",
    "        coa_net.add_node(src, src, title=src, color='#FFD124')\n",
    "        coa_net.add_node(dst,dst,title=dst, color='#a1dab4')\n",
    "    if col==3:\n",
    "        coa_net.add_node(src, src, title=src, color='#FFD124')\n",
    "        coa_net.add_node(dst,dst,title=dst, color='#41b6c4')\n",
    "    if col==4:\n",
    "        coa_net.add_node(src, src, title=src, color='#FFD124')\n",
    "        coa_net.add_node(dst,dst,title=dst, color='#2c7fb8')\n",
    "    if col==5:\n",
    "        coa_net.add_node(src, src, title=src, color='#FFD124')\n",
    "        coa_net.add_node(dst,dst,title=dst, color='#253494')\n",
    "   \n",
    "    coa_net.add_edge(src, dst, color='#069A8E')\n",
    "neighbor_map = coa_net.get_adj_list()\n",
    "\n",
    "# add neighbor data to node hover data\n",
    "for node in coa_net.nodes:\n",
    "    node['title'] += ' Neighbors:<br>' + '<br>'.join(neighbor_map[node['id']])\n",
    "    node['value'] = len(neighbor_map[node['id']])\n",
    "coa_net.show_buttons(filter_=['physics'])\n",
    "coa_net.show('redcoautores2020.html')"
   ]
  },
  {
   "cell_type": "code",
   "execution_count": 47,
   "metadata": {},
   "outputs": [],
   "source": [
    "coa_net = Network(height='750px', width='100%', bgcolor='#EDE6DB', font_color='black')\n",
    "\n",
    "# set the physics layout of the network\n",
    "coa_net.force_atlas_2based()\n",
    "coautores=pd.read_excel(\"RedCoautores2019.xlsx\")\n",
    "\n",
    "sources = coautores['AutorUniandes']\n",
    "targets = coautores['co']\n",
    "color = coautores['color']\n",
    "\n",
    "edge_data = zip(sources, targets, color)\n",
    "for e in edge_data:\n",
    "    src = e[0]\n",
    "    dst = e[1]\n",
    "    col = e[2]\n",
    "\n",
    "    if col==1:\n",
    "        coa_net.add_node(src, src, title=src, color='#FFD124')\n",
    "        coa_net.add_node(dst,dst,title=dst, color='#FFD124')\n",
    "    if col==2:\n",
    "        coa_net.add_node(src, src, title=src, color='#FFD124')\n",
    "        coa_net.add_node(dst,dst,title=dst, color='#a1dab4')\n",
    "    if col==3:\n",
    "        coa_net.add_node(src, src, title=src, color='#FFD124')\n",
    "        coa_net.add_node(dst,dst,title=dst, color='#41b6c4')\n",
    "    if col==4:\n",
    "        coa_net.add_node(src, src, title=src, color='#FFD124')\n",
    "        coa_net.add_node(dst,dst,title=dst, color='#2c7fb8')\n",
    "    if col==5:\n",
    "        coa_net.add_node(src, src, title=src, color='#FFD124')\n",
    "        coa_net.add_node(dst,dst,title=dst, color='#253494')\n",
    "   \n",
    "    coa_net.add_edge(src, dst, color='#069A8E')\n",
    "neighbor_map = coa_net.get_adj_list()\n",
    "\n",
    "# add neighbor data to node hover data\n",
    "for node in coa_net.nodes:\n",
    "    node['title'] += ' Neighbors:<br>' + '<br>'.join(neighbor_map[node['id']])\n",
    "    node['value'] = len(neighbor_map[node['id']])\n",
    "coa_net.show_buttons(filter_=['physics'])\n",
    "coa_net.show('redcoautores2019.html')"
   ]
  },
  {
   "cell_type": "code",
   "execution_count": null,
   "metadata": {},
   "outputs": [],
   "source": []
  }
 ],
 "metadata": {
  "kernelspec": {
   "display_name": "Python 3",
   "language": "python",
   "name": "python3"
  },
  "language_info": {
   "codemirror_mode": {
    "name": "ipython",
    "version": 3
   },
   "file_extension": ".py",
   "mimetype": "text/x-python",
   "name": "python",
   "nbconvert_exporter": "python",
   "pygments_lexer": "ipython3",
   "version": "3.8.5"
  }
 },
 "nbformat": 4,
 "nbformat_minor": 4
}
